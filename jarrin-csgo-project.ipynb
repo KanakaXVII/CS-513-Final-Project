{
 "cells": [
  {
   "cell_type": "markdown",
   "id": "e17fe188",
   "metadata": {},
   "source": [
    "# Import Libraries"
   ]
  },
  {
   "cell_type": "code",
   "execution_count": 1,
   "id": "dae61362",
   "metadata": {},
   "outputs": [],
   "source": [
    "# Import your basic libraries\n",
    "import pandas as pd\n",
    "import numpy as np\n",
    "import math, time\n",
    "import matplotlib.pyplot as plt\n",
    "\n",
    "# Import libraries for KNN modeling\n",
    "from sklearn.neighbors import KNeighborsClassifier\n",
    "from sklearn.model_selection import train_test_split\n",
    "from sklearn import preprocessing\n",
    "from sklearn.preprocessing import StandardScaler\n",
    "from sklearn.metrics import classification_report, confusion_matrix, accuracy_score, roc_auc_score\n",
    "\n",
    "# Import libraries for Random Forest modeling\n",
    "from sklearn.ensemble import RandomForestClassifier\n",
    "from sklearn import metrics\n",
    "\n",
    "# Import libraries for ANN\n",
    "from sklearn.neural_network import MLPClassifier"
   ]
  },
  {
   "cell_type": "code",
   "execution_count": 2,
   "id": "39ea5838",
   "metadata": {},
   "outputs": [],
   "source": [
    "# Import the csv file and view the head of the data\n",
    "csgoData = pd.read_csv('csgo_round_snapshots.csv')"
   ]
  },
  {
   "cell_type": "code",
   "execution_count": 3,
   "id": "e405e923",
   "metadata": {},
   "outputs": [
    {
     "name": "stdout",
     "output_type": "stream",
     "text": [
      "Missing values: 0\n"
     ]
    }
   ],
   "source": [
    "# Check for NA values\n",
    "isNA = csgoData.isnull().sum()\n",
    "naCounter = 0\n",
    "\n",
    "for i in isNA:\n",
    "    if i > 0:\n",
    "        print('NA: ',i)\n",
    "        naCounter += i\n",
    "\n",
    "print('Missing values: %s' % naCounter)"
   ]
  },
  {
   "cell_type": "code",
   "execution_count": 4,
   "id": "4cee0ef1",
   "metadata": {},
   "outputs": [],
   "source": [
    "# Grab a list of the column names\n",
    "colNames = []\n",
    "for col in csgoData.columns:\n",
    "    colNames.append(col)"
   ]
  },
  {
   "cell_type": "code",
   "execution_count": 5,
   "id": "d85a0aec",
   "metadata": {},
   "outputs": [],
   "source": [
    "def buildRounds(csgoData):\n",
    "    # Set up a new list to hold all of the round summaries\n",
    "    rounds = []\n",
    "\n",
    "    # Set up loop params to summarize rounds\n",
    "    counter = 0\n",
    "    lim = len(csgoData) # This will be set to len(csgoData) once it is ready\n",
    "    startPoint = 0\n",
    "    \n",
    "    # Iterate through the data set to slice the rounds\n",
    "    print('Grouping snapshots into rounds...')\n",
    "    while counter < lim + 1:\n",
    "\n",
    "        roundOver = 'FALSE'\n",
    "        prev = 180\n",
    "\n",
    "        # Loop for only the snapshots within the round\n",
    "        while roundOver == 'FALSE':\n",
    "            if counter == lim:\n",
    "                roundSum = []\n",
    "                roundSlice = csgoData.loc[startPoint:counter-1]\n",
    "\n",
    "                # print('Round Over - %s won the round' % csgoData['round_winner'][counter]) # -> Used to determine if the round has been completed (new round started) # -> Debug line\n",
    "                \n",
    "                # Some debugging lines\n",
    "                '''\n",
    "                print(roundSlice) -> This is to validate that the rounds are being sliced properly\n",
    "                print(roundSlice.iloc[0]) -> Used to test if I can pull the first row of the slice\n",
    "                print(roundSlice.iloc[len(roundSlice)-1]) -> Used to test if I can pull the last row of the slice\n",
    "                '''\n",
    "\n",
    "                # Set some of the values according to the end of the round\n",
    "                roundSum.append(roundSlice.iloc[len(roundSlice)-1]['ct_score'])\n",
    "                roundSum.append(roundSlice.iloc[len(roundSlice)-1]['t_score'])\n",
    "                roundSum.append(roundSlice.iloc[len(roundSlice)-1]['map'])\n",
    "                roundSum.append(roundSlice.iloc[len(roundSlice)-1]['bomb_planted'])\n",
    "                \n",
    "                # Set the remaining values according to the beginning of the round\n",
    "                for i in roundSlice.iloc[1][5:97]:\n",
    "                    roundSum.append(i)\n",
    "                \n",
    "                # Test to see if there is a short round that indicates inaccurate data capture\n",
    "                if len(roundSlice) <= 2 and roundSum[0] == rounds[len(rounds)-1][0] and roundSum[1] == rounds[len(rounds)-1][1]:\n",
    "                    print('Round %s Triggered: Short round - Ignoring it...\\n' % counter)\n",
    "                else:\n",
    "                    rounds.append(roundSum)\n",
    "\n",
    "                del roundSum\n",
    "\n",
    "                return rounds\n",
    "\n",
    "            elif counter < lim:\n",
    "                if csgoData['time_left'][counter] > prev and csgoData['time_left'][counter] > 165:\n",
    "                    \n",
    "                    roundSum = []\n",
    "                    roundSlice = csgoData.loc[startPoint:counter-1]\n",
    "\n",
    "                    # print('Round Over - %s won the round' % csgoData['round_winner'][counter]) # -> Used to determine if the round has been completed (new round started) # -> Debug line\n",
    "                    \n",
    "                    # Some debugging lines\n",
    "                    '''\n",
    "                    print(roundSlice) -> This is to validate that the rounds are being sliced properly\n",
    "                    print(roundSlice.iloc[0]) -> Used to test if I can pull the first row of the slice\n",
    "                    print(roundSlice.iloc[len(roundSlice)-1]) -> Used to test if I can pull the last row of the slice\n",
    "                    '''\n",
    "\n",
    "                    # Set some of the values according to the end of the round\n",
    "                    roundSum.append(roundSlice.iloc[len(roundSlice)-1]['ct_score'])\n",
    "                    roundSum.append(roundSlice.iloc[len(roundSlice)-1]['t_score'])\n",
    "                    roundSum.append(roundSlice.iloc[len(roundSlice)-1]['map'])\n",
    "                    roundSum.append(roundSlice.iloc[len(roundSlice)-1]['bomb_planted'])\n",
    "                    \n",
    "                    # Set the remaining values according to the beginning of the round\n",
    "                    for i in roundSlice.iloc[1][5:97]:\n",
    "                        roundSum.append(i)\n",
    "                    \n",
    "                    # Test to see if there is a short round that indicates inaccurate data capture\n",
    "                    if len(roundSlice) <= 2 and roundSum[0] == rounds[len(rounds)-1][0] and roundSum[1] == rounds[len(rounds)-1][1]:\n",
    "                        print('Round %s Triggered: Short round - Ignoring it...\\n' % counter)\n",
    "                    else:\n",
    "                        rounds.append(roundSum)\n",
    "\n",
    "                    del roundSum\n",
    "\n",
    "                    roundOver = 'TRUE'\n",
    "                    startPoint = counter  \n",
    "                \n",
    "                # Test for repeated rows in the data\n",
    "                elif csgoData['time_left'][counter] == prev:\n",
    "                    # print('Repeat row - ignoring...') # -> Debug line\n",
    "                    prev = csgoData['time_left'][counter]\n",
    "\n",
    "                # Round not over yet, so set the new reference time value for the next iteration\n",
    "                else:\n",
    "                    # print('Round not over. Time remaining: %s' % csgoData['time_left'][counter]) # -> Used to test if the round timer was being referenced properly\n",
    "                    prev = csgoData['time_left'][counter]\n",
    "                \n",
    "                counter += 1"
   ]
  },
  {
   "cell_type": "code",
   "execution_count": 6,
   "id": "82049587",
   "metadata": {
    "scrolled": true
   },
   "outputs": [
    {
     "name": "stdout",
     "output_type": "stream",
     "text": [
      "Grouping snapshots into rounds...\n",
      "   ct_score  t_score       map  bomb_planted  ct_health  t_health  ct_armor  \\\n",
      "0       0.0      0.0  de_dust2         False      500.0     500.0     400.0   \n",
      "1       1.0      0.0  de_dust2         False      500.0     500.0     500.0   \n",
      "2       2.0      0.0  de_dust2         False      500.0     500.0     496.0   \n",
      "3       2.0      1.0  de_dust2          True      500.0     500.0     500.0   \n",
      "4       3.0      1.0  de_dust2          True      500.0     500.0     499.0   \n",
      "\n",
      "   t_armor  ct_money  t_money  ...  t_grenade_flashbang  \\\n",
      "0    300.0     600.0    650.0  ...                  0.0   \n",
      "1      0.0    1750.0  10550.0  ...                  0.0   \n",
      "2    500.0    2200.0   1000.0  ...                  5.0   \n",
      "3    474.0     850.0   3150.0  ...                  5.0   \n",
      "4    493.0   12100.0   2200.0  ...                  4.0   \n",
      "\n",
      "   ct_grenade_smokegrenade  t_grenade_smokegrenade  \\\n",
      "0                      0.0                     2.0   \n",
      "1                      3.0                     0.0   \n",
      "2                      4.0                     5.0   \n",
      "3                      0.0                     3.0   \n",
      "4                      3.0                     4.0   \n",
      "\n",
      "   ct_grenade_incendiarygrenade  t_grenade_incendiarygrenade  \\\n",
      "0                           0.0                          0.0   \n",
      "1                           1.0                          0.0   \n",
      "2                           2.0                          0.0   \n",
      "3                           0.0                          0.0   \n",
      "4                           3.0                          0.0   \n",
      "\n",
      "   ct_grenade_molotovgrenade  t_grenade_molotovgrenade  \\\n",
      "0                        0.0                       0.0   \n",
      "1                        0.0                       0.0   \n",
      "2                        0.0                       1.0   \n",
      "3                        0.0                       4.0   \n",
      "4                        0.0                       2.0   \n",
      "\n",
      "   ct_grenade_decoygrenade  t_grenade_decoygrenade  round_winner  \n",
      "0                      0.0                     0.0            CT  \n",
      "1                      0.0                     0.0            CT  \n",
      "2                      0.0                     1.0             T  \n",
      "3                      0.0                     0.0            CT  \n",
      "4                      0.0                     0.0             T  \n",
      "\n",
      "[5 rows x 96 columns]\n"
     ]
    }
   ],
   "source": [
    "# Create the new data frame\n",
    "rounds = buildRounds(csgoData)\n",
    "roundDF = pd.DataFrame(rounds, columns = colNames[1:97])\n",
    "\n",
    "# Convert the data to necessary values (numeric) and split it into target and attributes\n",
    "toNum = {'CT': 0, 'T': 1}\n",
    "roundDF.replace({'CT': toNum, 'T': toNum})\n",
    "\n",
    "# Show the first few rows\n",
    "print(roundDF.head())"
   ]
  },
  {
   "cell_type": "markdown",
   "id": "7bd696d9",
   "metadata": {},
   "source": [
    "# Create test and training sets"
   ]
  },
  {
   "cell_type": "code",
   "execution_count": 7,
   "id": "c2a79ed8",
   "metadata": {},
   "outputs": [],
   "source": [
    "# Convert the strings in 'map' attribute to numerical values\n",
    "tmpMaps = []\n",
    "for i in roundDF['map']:\n",
    "    if i not in tmpMaps:\n",
    "        tmpMaps.append(i)\n",
    "\n",
    "mapVals = list(range(1,len(tmpMaps)+1)) # Formerly a list of values 1-8\n",
    "\n",
    "tmpBomb = [False, True]\n",
    "bombVals = [0, 1]\n",
    "\n",
    "roundDF.replace(to_replace = tmpMaps, value = mapVals, inplace=True)\n",
    "roundDF.replace(to_replace = tmpBomb, value = bombVals, inplace=True)    \n",
    "\n",
    "# Split the rounds into two different dataframes: attributes and target\n",
    "x = roundDF[colNames[3:-1]] # Attributes\n",
    "y = roundDF['round_winner'] # Target\n",
    "\n",
    "# Split the data into training and test sets\n",
    "xTrain, xTest, yTrain, yTest = train_test_split(x, y, test_size = 0.2, random_state = 42)\n",
    "scaler = StandardScaler()\n",
    "scaler.fit(xTrain)\n",
    "\n",
    "xTrain = scaler.transform(xTrain)\n",
    "xTest = scaler.transform(xTest)"
   ]
  },
  {
   "cell_type": "markdown",
   "id": "81869753",
   "metadata": {},
   "source": [
    "# KNN Model"
   ]
  },
  {
   "cell_type": "code",
   "execution_count": 8,
   "id": "736c66e9",
   "metadata": {},
   "outputs": [
    {
     "name": "stdout",
     "output_type": "stream",
     "text": [
      "Finding the best k value between 1 and square root of the length of the data\n",
      "Best K: 121\tAccuracy Rate: 0.7295563869588455\n",
      "\n"
     ]
    }
   ],
   "source": [
    "# Apply the KNN methodology using the training sets for attributes and taget starting with k as the square root of the length of the training set\n",
    "print('Finding the best k value between 1 and square root of the length of the data')\n",
    "\n",
    "# Find accuracy rate for each k and store it\n",
    "accuracyRates = []\n",
    "lim = int(math.sqrt(len(xTrain)))\n",
    "kRange = list(range(1, lim))\n",
    "\n",
    "for i in kRange:\n",
    "    knn = KNeighborsClassifier(n_neighbors=i)\n",
    "    knn.fit(xTrain, yTrain)\n",
    "    accuracyRates.append(knn.score(xTest, yTest))\n",
    "\n",
    "# Find the highest \n",
    "highest = [1, 0]\n",
    "for i in kRange:\n",
    "    pair = (i, accuracyRates[i-1])\n",
    "    if accuracyRates[i-1] > highest[1]:\n",
    "        highest[0] = i\n",
    "        highest[1] = accuracyRates[i-1]\n",
    "\n",
    "# Print the best k value\n",
    "bestK = (highest[0], highest[1])\n",
    "print('Best K: %s\\tAccuracy Rate: %s\\n' % bestK)"
   ]
  },
  {
   "cell_type": "code",
   "execution_count": 9,
   "id": "4560671d",
   "metadata": {},
   "outputs": [
    {
     "data": {
      "image/png": "[encoded data removed]",
      "text/plain": [
       "<Figure size 576x432 with 1 Axes>"
      ]
     },
     "metadata": {
      "needs_background": "light"
     },
     "output_type": "display_data"
    }
   ],
   "source": [
    "# Show a line graph with k values\n",
    "plt.figure(figsize=(8, 6))\n",
    "plt.plot(kRange, accuracyRates, color='blue')\n",
    "\n",
    "plt.title('K Value Accuracy', fontsize=14)\n",
    "plt.xlabel('K Value', fontsize=14)\n",
    "plt.ylabel('Accuracy', fontsize=14)\n",
    "plt.grid(True)\n",
    "\n",
    "plt.show()"
   ]
  },
  {
   "cell_type": "code",
   "execution_count": 10,
   "id": "c4e18c6e",
   "metadata": {},
   "outputs": [
    {
     "name": "stdout",
     "output_type": "stream",
     "text": [
      "KNN Training Accuracy: 73.67858336117608\n",
      "KNN Test Accuracy: 72.95563869588455\n"
     ]
    }
   ],
   "source": [
    "# Re-fit the data to best k\n",
    "knn = KNeighborsClassifier(n_neighbors=highest[0])\n",
    "knn.fit(xTrain, yTrain)\n",
    "\n",
    "# Print the accuracy rate for the best k\n",
    "bestKTrain = knn.score(xTrain, yTrain) * 100\n",
    "bestKTest = knn.score(xTest, yTest) * 100\n",
    "pPair = (bestKTrain, bestKTest)\n",
    "\n",
    "print('KNN Training Accuracy: %s\\nKNN Test Accuracy: %s' % pPair)"
   ]
  },
  {
   "cell_type": "markdown",
   "id": "0c58c663",
   "metadata": {},
   "source": [
    "# Random Forests"
   ]
  },
  {
   "cell_type": "code",
   "execution_count": 36,
   "id": "24fcfe52",
   "metadata": {},
   "outputs": [
    {
     "name": "stdout",
     "output_type": "stream",
     "text": [
      "Calculating Random Forests...\n",
      "Done\n"
     ]
    }
   ],
   "source": [
    "# Build the forest using pre-determined tree counts\n",
    "print('Calculating Random Forests...')\n",
    "rfResults = []\n",
    "nTrees = [1, 5, 10, 20, 50, 100, 500, 1000, 3000, 5000]\n",
    "for i in nTrees:\n",
    "    rf = RandomForestClassifier(n_estimators=i)\n",
    "    rf.fit(xTrain, yTrain)\n",
    "\n",
    "    # Create a prediction using the model\n",
    "    yPrediction = rf.predict(xTest)\n",
    "\n",
    "    # Print accuracy rate of preliminary forest\n",
    "    rfAccuracy = metrics.accuracy_score(yTest, yPrediction) * 100\n",
    "    rfAccuracy = '{0:.3f}'.format(rfAccuracy)\n",
    "    tmpResult = [i, rfAccuracy]\n",
    "    rfResults.append(tmpResult)\n",
    "\n",
    "print('Done')"
   ]
  },
  {
   "cell_type": "code",
   "execution_count": 41,
   "id": "b54cfe0f",
   "metadata": {},
   "outputs": [
    {
     "name": "stdout",
     "output_type": "stream",
     "text": [
      "   Trees Accuracy\n",
      "0      1   65.740\n",
      "1      5   71.807\n",
      "2     10   73.650\n",
      "3     20   74.425\n",
      "4     50   76.002\n",
      "5    100   76.243\n",
      "6    500   76.590\n",
      "7   1000   76.430\n",
      "8   3000   76.590\n",
      "9   5000   76.430\n"
     ]
    }
   ],
   "source": [
    "# Convert results to dataframe and display them\n",
    "rfResults = pd.DataFrame(rfResults, columns = ['Trees', 'Accuracy'])\n",
    "print(rfResults)"
   ]
  },
  {
   "cell_type": "code",
   "execution_count": 43,
   "id": "3b4ef433",
   "metadata": {},
   "outputs": [
    {
     "name": "stdout",
     "output_type": "stream",
     "text": [
      "Results of Random Forests model\n",
      "\n",
      "Best Trees: 3000\n",
      "RF Training Accuracy: 99.52555963915803\n",
      "RF Test Accuracy: 76.50988776055586\n"
     ]
    }
   ],
   "source": [
    "# Find the best tree count based on accuracy\n",
    "lim = list(range(0, len(rfResults)))\n",
    "bestTrees = [1, 0.0]\n",
    "\n",
    "for i in lim:\n",
    "    tmpAcc = rfResults.iloc[i]['Accuracy']\n",
    "    tmpAcc = float(tmpAcc)\n",
    "    if tmpAcc >= float(bestTrees[1]):\n",
    "        bestTrees[0] = rfResults.iloc[i]['Trees']\n",
    "        bestTrees[1] = rfResults.iloc[i]['Accuracy']\n",
    "        \n",
    "# Re-fit the data using best tree count\n",
    "rf = RandomForestClassifier(n_estimators=bestTrees[0])\n",
    "rf.fit(xTrain, yTrain)\n",
    "\n",
    "# Print results\n",
    "print('Results of Random Forests model\\n')\n",
    "print('Best Trees: %s' % bestTrees[0])\n",
    "\n",
    "bestRFTrain = rf.score(xTrain, yTrain) * 100\n",
    "bestRFTest = rf.score(xTest, yTest) * 100\n",
    "pPair = (bestRFTrain, bestRFTest)\n",
    "\n",
    "print('RF Training Accuracy: %s\\nRF Test Accuracy: %s' % pPair)"
   ]
  },
  {
   "cell_type": "code",
   "execution_count": null,
   "id": "1480adae",
   "metadata": {},
   "outputs": [],
   "source": []
  }
 ],
 "metadata": {
  "kernelspec": {
   "display_name": "Python 3",
   "language": "python",
   "name": "python3"
  },
  "language_info": {
   "codemirror_mode": {
    "name": "ipython",
    "version": 3
   },
   "file_extension": ".py",
   "mimetype": "text/x-python",
   "name": "python",
   "nbconvert_exporter": "python",
   "pygments_lexer": "ipython3",
   "version": "3.9.2"
  }
 },
 "nbformat": 4,
 "nbformat_minor": 5
}
